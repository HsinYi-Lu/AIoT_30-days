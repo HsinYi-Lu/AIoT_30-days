{
 "cells": [
  {
   "cell_type": "code",
   "execution_count": null,
   "metadata": {},
   "outputs": [],
   "source": [
    "from flask import Flask, request, abort\n",
    "from linebot import (\n",
    "    LineBotApi, WebhookHandler\n",
    ")\n",
    "from linebot.exceptions import (\n",
    "    InvalidSignatureError\n",
    ")\n",
    "from linebot.models import *\n",
    "\n",
    "app = Flask(__name__)\n",
    "\n",
    "# 獲取存取通道的令牌TOKEN\n",
    "line_bot_api = LineBotApi('YOUR_CHANNEL_ACCESS_TOKEN')\n",
    "# 使用加密處理接收消息\n",
    "handler = WebhookHandler('YOUR_CHANNEL_SECRET')\n",
    "\n",
    "# 監聽所有來自 /callback 的 Post Request\n",
    "@app.route(\"/callback\", methods=['POST'])\n",
    "def callback():\n",
    "    # get X-Line-Signature header value\n",
    "    signature = request.headers['X-Line-Signature']\n",
    "    # get request body as text\n",
    "    body = request.get_data(as_text=True)\n",
    "    app.logger.info(\"Request body: \" + body)\n",
    "    # handle webhook body\n",
    "    try:\n",
    "        handler.handle(body, signature)\n",
    "    except InvalidSignatureError:\n",
    "        abort(400)\n",
    "    return 'OK'\n",
    "\n",
    "'''\n",
    "reply_message 規定只能在回復一次，也就是說每收到一則訊息只能回覆一次，\n",
    "如果想要回覆多條訊息的話，可以使用 push_message，\n",
    "Free的方案是 不提供 push_message 的功能，\n",
    "需要將方案改成 developer trial 才能用 push_message\n",
    "'''\n",
    "\n",
    "# 處理訊息\n",
    "@handler.add(MessageEvent, message=TextMessage)\n",
    "def handle_message(event):\n",
    "    # 可以修改(text = 回應的文字)\n",
    "    message = TextSendMessage(text=event.message.text)\n",
    "    #message = TestSendMessage(text=\"Hello World\"\n",
    "    line_bot_api.reply_message(event.reply_token, message)\n",
    "\n",
    "import os\n",
    "if __name__ == \"__main__\":\n",
    "    port = int(os.environ.get('PORT', 5000))\n",
    "    app.run(host='0.0.0.0', port=port)\n"
   ]
  }
 ],
 "metadata": {
  "kernelspec": {
   "display_name": "Python 3",
   "language": "python",
   "name": "python3"
  },
  "language_info": {
   "codemirror_mode": {
    "name": "ipython",
    "version": 3
   },
   "file_extension": ".py",
   "mimetype": "text/x-python",
   "name": "python",
   "nbconvert_exporter": "python",
   "pygments_lexer": "ipython3",
   "version": "3.8.3"
  }
 },
 "nbformat": 4,
 "nbformat_minor": 4
}
